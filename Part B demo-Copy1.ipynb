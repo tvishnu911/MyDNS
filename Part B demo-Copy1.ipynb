{
 "cells": [
  {
   "cell_type": "code",
   "execution_count": 1,
   "id": "f3faaf44",
   "metadata": {
    "scrolled": true
   },
   "outputs": [
    {
     "name": "stdout",
     "output_type": "stream",
     "text": [
      "id 5269\n",
      "opcode QUERY\n",
      "rcode NOERROR\n",
      "flags QR RD\n",
      "edns 0\n",
      "eflags DO\n",
      "payload 4096\n",
      ";QUESTION\n",
      "paypal.com. IN A\n",
      ";ANSWER\n",
      ";AUTHORITY\n",
      "com. 172800 IN NS e.gtld-servers.net.\n",
      "com. 172800 IN NS b.gtld-servers.net.\n",
      "com. 172800 IN NS j.gtld-servers.net.\n",
      "com. 172800 IN NS m.gtld-servers.net.\n",
      "com. 172800 IN NS i.gtld-servers.net.\n",
      "com. 172800 IN NS f.gtld-servers.net.\n",
      "com. 172800 IN NS a.gtld-servers.net.\n",
      "com. 172800 IN NS g.gtld-servers.net.\n",
      "com. 172800 IN NS h.gtld-servers.net.\n",
      "com. 172800 IN NS l.gtld-servers.net.\n",
      "com. 172800 IN NS k.gtld-servers.net.\n",
      "com. 172800 IN NS c.gtld-servers.net.\n",
      "com. 172800 IN NS d.gtld-servers.net.\n",
      "com. 86400 IN DS 30909 8 2 e2d3c916f6deeac73294e8268fb5885044a833fc5459588f4a9184cfc41a5766\n",
      "com. 86400 IN RRSIG DS 8 1 86400 20211005210000 20210922200000 26838 . bF/r3zrgxQLjC3hituZPxmzTURcKJ3nc 8BjFu0eMJwxovRYJBQwLetYcWL0c5HEl GkzGA/wWZJ1XjxRaCpIaw040WbVwX7+T CKR3nrNS8XbKWb/u5NRZERafRKxw+BbU g56/te9VCiFICuCHUXs1kNBbiqsif8kf YYIgMKMBBEchQ9GPAk1CrBVp7b7Rigs+ byao4IYT21Tqgale9RCUep4peTvPR8Hq oWj0ThuOcRsvjnpsURuKYcNG4kR4OIEN HXpYO7yQaQdvsqz0cqbUBSdtgmyUBYWI F3qxA8PTMDTjdRrAnuvs05SIQzXHu827 0HBHJH1GdHh1l1iYVZ4rhQ==\n",
      ";ADDITIONAL\n",
      "e.gtld-servers.net. 172800 IN A 192.12.94.30\n",
      "e.gtld-servers.net. 172800 IN AAAA 2001:502:1ca1::30\n",
      "b.gtld-servers.net. 172800 IN A 192.33.14.30\n",
      "b.gtld-servers.net. 172800 IN AAAA 2001:503:231d::2:30\n",
      "j.gtld-servers.net. 172800 IN A 192.48.79.30\n",
      "j.gtld-servers.net. 172800 IN AAAA 2001:502:7094::30\n",
      "m.gtld-servers.net. 172800 IN A 192.55.83.30\n",
      "m.gtld-servers.net. 172800 IN AAAA 2001:501:b1f9::30\n",
      "i.gtld-servers.net. 172800 IN A 192.43.172.30\n",
      "i.gtld-servers.net. 172800 IN AAAA 2001:503:39c1::30\n",
      "f.gtld-servers.net. 172800 IN A 192.35.51.30\n",
      "f.gtld-servers.net. 172800 IN AAAA 2001:503:d414::30\n",
      "a.gtld-servers.net. 172800 IN A 192.5.6.30\n",
      "a.gtld-servers.net. 172800 IN AAAA 2001:503:a83e::2:30\n",
      "g.gtld-servers.net. 172800 IN A 192.42.93.30\n",
      "g.gtld-servers.net. 172800 IN AAAA 2001:503:eea3::30\n",
      "h.gtld-servers.net. 172800 IN A 192.54.112.30\n",
      "h.gtld-servers.net. 172800 IN AAAA 2001:502:8cc::30\n",
      "l.gtld-servers.net. 172800 IN A 192.41.162.30\n",
      "l.gtld-servers.net. 172800 IN AAAA 2001:500:d937::30\n",
      "k.gtld-servers.net. 172800 IN A 192.52.178.30\n",
      "k.gtld-servers.net. 172800 IN AAAA 2001:503:d2d::30\n",
      "c.gtld-servers.net. 172800 IN A 192.26.92.30\n",
      "c.gtld-servers.net. 172800 IN AAAA 2001:503:83eb::30\n",
      "d.gtld-servers.net. 172800 IN A 192.31.80.30\n",
      "d.gtld-servers.net. 172800 IN AAAA 2001:500:856e::30\n",
      "**************************************************\n",
      "id 6179\n",
      "opcode QUERY\n",
      "rcode NOERROR\n",
      "flags QR AA RD\n",
      "edns 0\n",
      "eflags DO\n",
      "payload 4096\n",
      ";QUESTION\n",
      ". IN DNSKEY\n",
      ";ANSWER\n",
      ". 172800 IN DNSKEY 256 3 8 AwEAAY+oUaY0b7Z45vRD1ef/GykZqgHJ tfdzRcnQNvGVQAqlH22QChtG+n1EMugw 7T/6uDBAGlRIkXASdtHXhxStb9lPpyQe 5/JIuMIlg+NhxKxEJ5e3J9SSPCavvDhH /BPrBCJwn8b68QAWRjVW6Rgdx63pUm7l fsimiWGMfplHNvcZWgVbKA9OI2o2lU8r T8n7zuwtlZPNpDLSI5GzrJgIiKR2Id16 fmAgTJBOw14Xye/t4/BxTdxeMiiVFwA4 KUV2VeqspHKSHFOz+lUIIqBRknEmYpSv nxnyi0n1n4tGnGP8z6ZwRACi1Rw0nCu7 BGOU9M6LpInRoW/W4KXLODr6xqU=\n",
      ". 172800 IN DNSKEY 257 3 8 AwEAAaz/tAm8yTn4Mfeh5eyI96WSVexT BAvkMgJzkKTOiW1vkIbzxeF3+/4RgWOq 7HrxRixHlFlExOLAJr5emLvN7SWXgnLh 4+B5xQlNVz8Og8kvArMtNROxVQuCaSnI DdD5LKyWbRd2n9WGe2R8PzgCmr3EgVLr jyBxWezF0jLHwVN8efS3rCj/EWgvIWgb 9tarpVUDK/b58Da+sqqls3eNbuv7pr+e oZG+SrDK6nWeL3c6H5Apxz7LjVc1uTId sIXxuOLYA4/ilBmSVIzuDWfdRUfhHdY6 +cn8HFRm+2hM8AnXGXws9555KrUB5qih ylGa8subX2Nn6UwNR1AkUTV74bU=\n",
      ". 172800 IN DNSKEY 256 3 8 AwEAAbDEyqdwu2fqAwinPCFwALUCWfYY aLrNhnOrMxDorLBYMipEE1btlK1XnigT RMeb0YQ8/LCopb3CN73hYDhCHFsNk+Gt ukBB+gWLcg+2FZXbhLXIheQm8x2VfOHy 2yYQG+18wjx3HY9Mj/ZEhXbZNrDMvpFK KVihWXa0/cHNg4ZcIHD9KkMlKzK+my1K /vz8fq5cFCFOu7wgM+kKbOikdcRBm7Uf /wRXZItFg2uhUijUb56gEN8uCUgmuEw6 wQ5ZBuR7UT/FLyyAUeAH87oxF4im2DXK 6J+JA7IAs2UHJ16uTqvdserUU8NIosis laXIZCvz+NTDb3SJcxs6bvCikeU=\n",
      ". 172800 IN RRSIG DNSKEY 8 0 172800 20211010000000 20210919000000 20326 . Sr5anUGJStj+Ve2zr83JMQrEmbkf88Ri 52nFderay/sSIad8vWAxiPoxdaJ1iWky hJSWeOR0Sw4lRsphPIj54s3yqpPfXUg8 rPoIVeYYYkTFO5W5BF3gLsMfu2ZHaHLp NOsy6GCgPwXCxq49lJ/xcLyS0tjGkSH8 IW3sAT15sXDhLkMjMISJQ776Z2LSonXc NvNeGrkXuzCmcOwdduWnaSFsmKoPWQbb 3a4kANk0I0GRtDIp8XApb6WnNAmKTPRa H/VoX9M6b8CZyp5TuAbNPnW8nVFaCRMp nWCWYYOUhLm7jYEyNSr+V+/ygD+OUyrx 4R/WzIGSHaiHGQB1KU4eyw==\n",
      ";AUTHORITY\n",
      ";ADDITIONAL\n",
      "14748 8 2 6d698396855c5606482d3785e8fb0cb94259adade6308d3ad67d228d09fd9aa2\n",
      "<class 'dns.name.Name'>\n",
      "com. 172800 IN NS e.gtld-servers.net.\n",
      "com. 172800 IN NS b.gtld-servers.net.\n",
      "com. 172800 IN NS j.gtld-servers.net.\n",
      "com. 172800 IN NS m.gtld-servers.net.\n",
      "com. 172800 IN NS i.gtld-servers.net.\n",
      "com. 172800 IN NS f.gtld-servers.net.\n",
      "com. 172800 IN NS a.gtld-servers.net.\n",
      "com. 172800 IN NS g.gtld-servers.net.\n",
      "com. 172800 IN NS h.gtld-servers.net.\n",
      "com. 172800 IN NS l.gtld-servers.net.\n",
      "com. 172800 IN NS k.gtld-servers.net.\n",
      "com. 172800 IN NS c.gtld-servers.net.\n",
      "com. 172800 IN NS d.gtld-servers.net.\n",
      "None\n"
     ]
    }
   ],
   "source": [
    "import datetime\n",
    "import sys\n",
    "import dns.message\n",
    "import dns.rdataclass\n",
    "import dns.rdatatype\n",
    "import dns.query\n",
    "import time\n",
    "\n",
    "from dns.rrset import RRset\n",
    "\n",
    "\n",
    "name=\"paypal.com\"\n",
    "rootservers = ['198.41.0.4',\n",
    "'192.228.79.201', \n",
    "'192.33.4.12',\n",
    "'199.7.91.13',\n",
    "'192.203.230.10',\n",
    "'192.5.5.241',\n",
    "'192.112.36.4',\n",
    "'198.97.190.53',\n",
    "'192.36.148.17',\n",
    "'192.58.128.30',\n",
    "'193.0.14.129',\n",
    "'199.7.83.42',\n",
    "'202.12.27.33']\n",
    "\n",
    "rdtype_dic = {\n",
    "    'A': 1      ,\n",
    "    'NS':2      ,\n",
    "    'DS':43     ,\n",
    "    'RRSIG': 46 ,\n",
    "    'DNSKEY':48 ,\n",
    "}\n",
    "\n",
    "\n",
    "a_query = dns.message.make_query('paypal.com', 'A', want_dnssec=True)\n",
    "response1 = dns.query.udp(a_query, '198.41.0.4')\n",
    "print(response1)\n",
    "print(\"*\"*50)\n",
    "b_query = dns.message.make_query('.', 'DNSKEY', want_dnssec=True)\n",
    "response2 = dns.query.udp(b_query, '198.41.0.4')\n",
    "print(response2)\n",
    "# print(print(\"\".join(response2.answer[0].to_text().split(\"\\n\")[0].split(\" \")[7:])))\n",
    "print(dns.dnssec.make_ds(\".\", response2.answer[0][0], \"SHA256\", origin=None))\n",
    "key=dns.name.from_text(\".\")\n",
    "print(type(key))\n",
    "print(response1.authority[0])\n",
    "# print(response1.authority[2])\n",
    "value = dns.dnssec.validate(response2.answer[0], response2.answer[1], {key:response2.answer[0]})\n",
    "value = dns.dnssec.validate(response1.authority[1], response1.authority[2], {key:response2.answer[0]})\n",
    "\n",
    "print(value)"
   ]
  },
  {
   "cell_type": "code",
   "execution_count": 2,
   "id": "f1e64c80",
   "metadata": {
    "scrolled": true
   },
   "outputs": [
    {
     "name": "stdout",
     "output_type": "stream",
     "text": [
      "id 51243\n",
      "opcode QUERY\n",
      "rcode NOERROR\n",
      "flags QR RD\n",
      "edns 0\n",
      "eflags DO\n",
      "payload 1472\n",
      ";QUESTION\n",
      "paypal.com. IN A\n",
      ";ANSWER\n",
      ";AUTHORITY\n",
      "com. 172800 IN NS a.gtld-servers.net.\n",
      "com. 172800 IN NS b.gtld-servers.net.\n",
      "com. 172800 IN NS c.gtld-servers.net.\n",
      "com. 172800 IN NS d.gtld-servers.net.\n",
      "com. 172800 IN NS e.gtld-servers.net.\n",
      "com. 172800 IN NS f.gtld-servers.net.\n",
      "com. 172800 IN NS g.gtld-servers.net.\n",
      "com. 172800 IN NS h.gtld-servers.net.\n",
      "com. 172800 IN NS i.gtld-servers.net.\n",
      "com. 172800 IN NS j.gtld-servers.net.\n",
      "com. 172800 IN NS k.gtld-servers.net.\n",
      "com. 172800 IN NS l.gtld-servers.net.\n",
      "com. 172800 IN NS m.gtld-servers.net.\n",
      "com. 86400 IN DS 30909 8 2 e2d3c916f6deeac73294e8268fb5885044a833fc5459588f4a9184cfc41a5766\n",
      "com. 86400 IN RRSIG DS 8 1 86400 20211005210000 20210922200000 26838 . bF/r3zrgxQLjC3hituZPxmzTURcKJ3nc 8BjFu0eMJwxovRYJBQwLetYcWL0c5HEl GkzGA/wWZJ1XjxRaCpIaw040WbVwX7+T CKR3nrNS8XbKWb/u5NRZERafRKxw+BbU g56/te9VCiFICuCHUXs1kNBbiqsif8kf YYIgMKMBBEchQ9GPAk1CrBVp7b7Rigs+ byao4IYT21Tqgale9RCUep4peTvPR8Hq oWj0ThuOcRsvjnpsURuKYcNG4kR4OIEN HXpYO7yQaQdvsqz0cqbUBSdtgmyUBYWI F3qxA8PTMDTjdRrAnuvs05SIQzXHu827 0HBHJH1GdHh1l1iYVZ4rhQ==\n",
      ";ADDITIONAL\n",
      "a.gtld-servers.net. 172800 IN A 192.5.6.30\n",
      "b.gtld-servers.net. 172800 IN A 192.33.14.30\n",
      "c.gtld-servers.net. 172800 IN A 192.26.92.30\n",
      "d.gtld-servers.net. 172800 IN A 192.31.80.30\n",
      "e.gtld-servers.net. 172800 IN A 192.12.94.30\n",
      "f.gtld-servers.net. 172800 IN A 192.35.51.30\n",
      "g.gtld-servers.net. 172800 IN A 192.42.93.30\n",
      "h.gtld-servers.net. 172800 IN A 192.54.112.30\n",
      "i.gtld-servers.net. 172800 IN A 192.43.172.30\n",
      "j.gtld-servers.net. 172800 IN A 192.48.79.30\n",
      "k.gtld-servers.net. 172800 IN A 192.52.178.30\n",
      "l.gtld-servers.net. 172800 IN A 192.41.162.30\n",
      "m.gtld-servers.net. 172800 IN A 192.55.83.30\n",
      "a.gtld-servers.net. 172800 IN AAAA 2001:503:a83e::2:30\n",
      "b.gtld-servers.net. 172800 IN AAAA 2001:503:231d::2:30\n",
      "c.gtld-servers.net. 172800 IN AAAA 2001:503:83eb::30\n",
      "d.gtld-servers.net. 172800 IN AAAA 2001:500:856e::30\n",
      "e.gtld-servers.net. 172800 IN AAAA 2001:502:1ca1::30\n",
      "f.gtld-servers.net. 172800 IN AAAA 2001:503:d414::30\n",
      "g.gtld-servers.net. 172800 IN AAAA 2001:503:eea3::30\n",
      "h.gtld-servers.net. 172800 IN AAAA 2001:502:8cc::30\n",
      "i.gtld-servers.net. 172800 IN AAAA 2001:503:39c1::30\n",
      "j.gtld-servers.net. 172800 IN AAAA 2001:502:7094::30\n",
      "k.gtld-servers.net. 172800 IN AAAA 2001:503:d2d::30\n",
      "l.gtld-servers.net. 172800 IN AAAA 2001:500:d937::30\n",
      "m.gtld-servers.net. 172800 IN AAAA 2001:501:b1f9::30\n",
      "***************\n",
      "2\n",
      "43\n",
      "46\n",
      "DS:  com. 86400 IN DS 30909 8 2 e2d3c916f6deeac73294e8268fb5885044a833fc5459588f4a9184cfc41a5766\n",
      "RRSIG:  com. 86400 IN RRSIG DS 8 1 86400 20211005210000 20210922200000 26838 . bF/r3zrgxQLjC3hituZPxmzTURcKJ3nc 8BjFu0eMJwxovRYJBQwLetYcWL0c5HEl GkzGA/wWZJ1XjxRaCpIaw040WbVwX7+T CKR3nrNS8XbKWb/u5NRZERafRKxw+BbU g56/te9VCiFICuCHUXs1kNBbiqsif8kf YYIgMKMBBEchQ9GPAk1CrBVp7b7Rigs+ byao4IYT21Tqgale9RCUep4peTvPR8Hq oWj0ThuOcRsvjnpsURuKYcNG4kR4OIEN HXpYO7yQaQdvsqz0cqbUBSdtgmyUBYWI F3qxA8PTMDTjdRrAnuvs05SIQzXHu827 0HBHJH1GdHh1l1iYVZ4rhQ==\n"
     ]
    }
   ],
   "source": [
    "a_query = dns.message.make_query('paypal.com', 'A', want_dnssec=True)\n",
    "response1 = dns.query.udp(a_query, '198.41.0.4')\n",
    "print(response1)\n",
    "print(\"***\"*5)\n",
    "ds = None\n",
    "rrsig = None\n",
    "for i in response1.authority:\n",
    "    print(i.rdtype)\n",
    "    if not ds and i.rdtype == 43:\n",
    "        ds = i\n",
    "    elif not rrsig and i.rdtype == 46:\n",
    "        rrsig = i\n",
    "    if ds and rrsig:\n",
    "        break\n",
    "print(\"DS: \", ds)\n",
    "print(\"RRSIG: \", rrsig)    "
   ]
  },
  {
   "cell_type": "code",
   "execution_count": 3,
   "id": "33cef949",
   "metadata": {},
   "outputs": [
    {
     "data": {
      "text/plain": [
       "dns.rdtypes.ANY.RRSIG.RRSIG"
      ]
     },
     "execution_count": 3,
     "metadata": {},
     "output_type": "execute_result"
    }
   ],
   "source": [
    "ds[0]\n",
    "type(rrsig[0])"
   ]
  },
  {
   "cell_type": "code",
   "execution_count": null,
   "id": "d56c46ec",
   "metadata": {},
   "outputs": [],
   "source": []
  },
  {
   "cell_type": "code",
   "execution_count": null,
   "id": "28385523",
   "metadata": {},
   "outputs": [],
   "source": []
  },
  {
   "cell_type": "code",
   "execution_count": 4,
   "id": "6c9f5479",
   "metadata": {
    "scrolled": true
   },
   "outputs": [
    {
     "name": "stdout",
     "output_type": "stream",
     "text": [
      "id 53504\n",
      "opcode QUERY\n",
      "rcode NOERROR\n",
      "flags QR AA RD\n",
      "edns 0\n",
      "eflags DO\n",
      "payload 1472\n",
      ";QUESTION\n",
      ". IN DNSKEY\n",
      ";ANSWER\n",
      ". 172800 IN DNSKEY 256 3 8 AwEAAY+oUaY0b7Z45vRD1ef/GykZqgHJ tfdzRcnQNvGVQAqlH22QChtG+n1EMugw 7T/6uDBAGlRIkXASdtHXhxStb9lPpyQe 5/JIuMIlg+NhxKxEJ5e3J9SSPCavvDhH /BPrBCJwn8b68QAWRjVW6Rgdx63pUm7l fsimiWGMfplHNvcZWgVbKA9OI2o2lU8r T8n7zuwtlZPNpDLSI5GzrJgIiKR2Id16 fmAgTJBOw14Xye/t4/BxTdxeMiiVFwA4 KUV2VeqspHKSHFOz+lUIIqBRknEmYpSv nxnyi0n1n4tGnGP8z6ZwRACi1Rw0nCu7 BGOU9M6LpInRoW/W4KXLODr6xqU=\n",
      ". 172800 IN DNSKEY 256 3 8 AwEAAbDEyqdwu2fqAwinPCFwALUCWfYY aLrNhnOrMxDorLBYMipEE1btlK1XnigT RMeb0YQ8/LCopb3CN73hYDhCHFsNk+Gt ukBB+gWLcg+2FZXbhLXIheQm8x2VfOHy 2yYQG+18wjx3HY9Mj/ZEhXbZNrDMvpFK KVihWXa0/cHNg4ZcIHD9KkMlKzK+my1K /vz8fq5cFCFOu7wgM+kKbOikdcRBm7Uf /wRXZItFg2uhUijUb56gEN8uCUgmuEw6 wQ5ZBuR7UT/FLyyAUeAH87oxF4im2DXK 6J+JA7IAs2UHJ16uTqvdserUU8NIosis laXIZCvz+NTDb3SJcxs6bvCikeU=\n",
      ". 172800 IN DNSKEY 257 3 8 AwEAAaz/tAm8yTn4Mfeh5eyI96WSVexT BAvkMgJzkKTOiW1vkIbzxeF3+/4RgWOq 7HrxRixHlFlExOLAJr5emLvN7SWXgnLh 4+B5xQlNVz8Og8kvArMtNROxVQuCaSnI DdD5LKyWbRd2n9WGe2R8PzgCmr3EgVLr jyBxWezF0jLHwVN8efS3rCj/EWgvIWgb 9tarpVUDK/b58Da+sqqls3eNbuv7pr+e oZG+SrDK6nWeL3c6H5Apxz7LjVc1uTId sIXxuOLYA4/ilBmSVIzuDWfdRUfhHdY6 +cn8HFRm+2hM8AnXGXws9555KrUB5qih ylGa8subX2Nn6UwNR1AkUTV74bU=\n",
      ". 172800 IN RRSIG DNSKEY 8 0 172800 20211010000000 20210919000000 20326 . Sr5anUGJStj+Ve2zr83JMQrEmbkf88Ri 52nFderay/sSIad8vWAxiPoxdaJ1iWky hJSWeOR0Sw4lRsphPIj54s3yqpPfXUg8 rPoIVeYYYkTFO5W5BF3gLsMfu2ZHaHLp NOsy6GCgPwXCxq49lJ/xcLyS0tjGkSH8 IW3sAT15sXDhLkMjMISJQ776Z2LSonXc NvNeGrkXuzCmcOwdduWnaSFsmKoPWQbb 3a4kANk0I0GRtDIp8XApb6WnNAmKTPRa H/VoX9M6b8CZyp5TuAbNPnW8nVFaCRMp nWCWYYOUhLm7jYEyNSr+V+/ygD+OUyrx 4R/WzIGSHaiHGQB1KU4eyw==\n",
      ";AUTHORITY\n",
      ";ADDITIONAL\n"
     ]
    }
   ],
   "source": [
    "b_query = dns.message.make_query('.', 'DNSKEY', want_dnssec=True)\n",
    "response2 = dns.query.udp(b_query, '198.41.0.4')\n",
    "print(response2)"
   ]
  },
  {
   "cell_type": "code",
   "execution_count": 5,
   "id": "c6a6cd93",
   "metadata": {},
   "outputs": [
    {
     "name": "stdout",
     "output_type": "stream",
     "text": [
      "None\n"
     ]
    }
   ],
   "source": [
    "response2.answer\n",
    "type(response2.answer[0])\n",
    "\n",
    "response2Dnskey = response2.answer[0]\n",
    "response2Rrsig = response2.answer[1]\n",
    "\n",
    "print(dns.dnssec.validate(response2Dnskey, response2Rrsig, {key : response2Dnskey}))"
   ]
  },
  {
   "cell_type": "code",
   "execution_count": 6,
   "id": "264f45e8",
   "metadata": {},
   "outputs": [],
   "source": [
    "root_hash=[\"49AAC11D7B6F6446702E54A1607371607A1A41855200FD2CE1CDDE32F24E8FB5\".lower(),\"E06D44B80B8F1D39A95C0B0D7C65D08458E880409BBC683457104237C7F8EC8D\".lower()]"
   ]
  },
  {
   "cell_type": "code",
   "execution_count": 7,
   "id": "eeaf30c6",
   "metadata": {},
   "outputs": [
    {
     "name": "stdout",
     "output_type": "stream",
     "text": [
      "RdataType.DNSKEY\n",
      "RdataType.DNSKEY\n",
      "RdataType.DNSKEY\n",
      "e06d44b80b8f1d39a95c0b0d7c65d08458e880409bbc683457104237c7f8ec8d\n"
     ]
    }
   ],
   "source": [
    "for res in response2Dnskey:\n",
    "    print(res.rdtype)\n",
    "    if \"257\" in str(res):\n",
    "        zsk = res\n",
    "        break\n",
    "zskDecrypt = dns.dnssec.make_ds(\".\", zsk, \"SHA256\", origin=None)\n",
    "zskDecrypt = str(zskDecrypt)\n",
    "print(zskDecrypt.split(\" \")[3])\n",
    "zskDecrypt = (zskDecrypt.split(\" \")[3])"
   ]
  },
  {
   "cell_type": "code",
   "execution_count": 8,
   "id": "cd9e1315",
   "metadata": {},
   "outputs": [
    {
     "name": "stdout",
     "output_type": "stream",
     "text": [
      "All good, munduku po\n"
     ]
    }
   ],
   "source": [
    "if str(zskDecrypt) in root_hash:\n",
    "    print(\"All good, munduku po\")\n",
    "else:\n",
    "    print(\"Nope, zsk corrupted\")"
   ]
  },
  {
   "cell_type": "code",
   "execution_count": 9,
   "id": "c0ebe4bc",
   "metadata": {},
   "outputs": [
    {
     "name": "stdout",
     "output_type": "stream",
     "text": [
      "None\n"
     ]
    }
   ],
   "source": [
    "print(dns.dnssec.validate(response2.answer[0], response2.answer[1], {key:response2.answer[0]}))"
   ]
  },
  {
   "cell_type": "code",
   "execution_count": 10,
   "id": "0aea1887",
   "metadata": {},
   "outputs": [
    {
     "data": {
      "text/plain": [
       "<DNS IN RRSIG(DNSKEY) rdata: DNSKEY 8 0 172800 20211010000000 20210919000000 20326 . Sr5anUGJStj+Ve2zr83JMQrEmbkf88Ri 52nFderay/sSIad8vWAxiPoxdaJ1iWky hJSWeOR0Sw4lRsphPIj54s3yqpPfXUg8 rPoIVeYYYkTFO5W5BF3gLsMfu2ZHaHLp NOsy6GCgPwXCxq49lJ/xcLyS0tjGkSH8 IW3sAT15sXDhLkMjMISJQ776Z2LSonXc NvNeGrkXuzCmcOwdduWnaSFsmKoPWQbb 3a4kANk0I0GRtDIp8XApb6WnNAmKTPRa H/VoX9M6b8CZyp5TuAbNPnW8nVFaCRMp nWCWYYOUhLm7jYEyNSr+V+/ygD+OUyrx 4R/WzIGSHaiHGQB1KU4eyw==>"
      ]
     },
     "execution_count": 10,
     "metadata": {},
     "output_type": "execute_result"
    }
   ],
   "source": [
    "response2Rrsig[0]"
   ]
  },
  {
   "cell_type": "code",
   "execution_count": null,
   "id": "85884420",
   "metadata": {},
   "outputs": [],
   "source": []
  },
  {
   "cell_type": "code",
   "execution_count": 11,
   "id": "750bdd19",
   "metadata": {},
   "outputs": [
    {
     "name": "stdout",
     "output_type": "stream",
     "text": [
      "google.com.\n"
     ]
    }
   ],
   "source": [
    "print(dns.name.from_text(\"google.com.\"))"
   ]
  },
  {
   "cell_type": "code",
   "execution_count": 12,
   "id": "ae06e93c",
   "metadata": {},
   "outputs": [
    {
     "name": "stdout",
     "output_type": "stream",
     "text": [
      "None\n"
     ]
    }
   ],
   "source": [
    "key=dns.name.from_text(\".\")\n",
    "value = dns.dnssec.validate(response2.answer[0], response2.answer[1], {key:response2.answer[0]})\n",
    "print(value)"
   ]
  },
  {
   "cell_type": "code",
   "execution_count": 13,
   "id": "46c5d1c9",
   "metadata": {},
   "outputs": [
    {
     "data": {
      "text/plain": [
       "[<DNS com. IN NS RRset: [<a.gtld-servers.net.>, <b.gtld-servers.net.>, <c.gtld-servers.net.>, <d.gtld-servers.net.>, <e.gtld-servers.net.>, <f.gtld-servers.net.>, <g.gtld-servers.net.>, <h.gtld-servers.net.>, <i.gtld-servers.net.>, <j.gtld-servers.net.>, <k.gtld-servers.net.>, <l.gtld-servers.net.>, <m.gtld-servers.net.>]>,\n",
       " <DNS com. IN DS RRset: [<30909 8 2 e2d3c916f6deeac73294e8268fb5885044a833fc5459588f4a9184cfc41a5766>]>,\n",
       " <DNS com. IN RRSIG(DS) RRset: [<DS 8 1 86400 20211005210000 20210922200000 26838 . bF/r3zrgxQLjC3hituZPxmzTURcKJ3nc 8BjFu0eMJwxovRYJ...>]>]"
      ]
     },
     "execution_count": 13,
     "metadata": {},
     "output_type": "execute_result"
    }
   ],
   "source": [
    "response1.authority"
   ]
  },
  {
   "cell_type": "code",
   "execution_count": 14,
   "id": "0afba791",
   "metadata": {
    "scrolled": true
   },
   "outputs": [
    {
     "name": "stdout",
     "output_type": "stream",
     "text": [
      "14748 8 2 6d698396855c5606482d3785e8fb0cb94259adade6308d3ad67d228d09fd9aa2\n",
      "<class 'dns.name.Name'>\n",
      "com. 172800 IN NS a.gtld-servers.net.\n",
      "com. 172800 IN NS b.gtld-servers.net.\n",
      "com. 172800 IN NS c.gtld-servers.net.\n",
      "com. 172800 IN NS d.gtld-servers.net.\n",
      "com. 172800 IN NS e.gtld-servers.net.\n",
      "com. 172800 IN NS f.gtld-servers.net.\n",
      "com. 172800 IN NS g.gtld-servers.net.\n",
      "com. 172800 IN NS h.gtld-servers.net.\n",
      "com. 172800 IN NS i.gtld-servers.net.\n",
      "com. 172800 IN NS j.gtld-servers.net.\n",
      "com. 172800 IN NS k.gtld-servers.net.\n",
      "com. 172800 IN NS l.gtld-servers.net.\n",
      "com. 172800 IN NS m.gtld-servers.net.\n"
     ]
    }
   ],
   "source": [
    "print(dns.dnssec.make_ds(\".\", response2.answer[0][0], \"SHA256\", origin=None))\n",
    "key=dns.name.from_text(\".\")\n",
    "print(type(key))\n",
    "print(response1.authority[0])\n",
    "# print(response1.authority[2])\n",
    "value = dns.dnssec.validate(response2.answer[0], response2.answer[1], {key:response2.answer[0]})\n",
    "value = dns.dnssec.validate(response1.authority[1], response1.authority[2], {key:response2.answer[0]})"
   ]
  },
  {
   "cell_type": "code",
   "execution_count": 15,
   "id": "48417194",
   "metadata": {
    "scrolled": true
   },
   "outputs": [
    {
     "name": "stdout",
     "output_type": "stream",
     "text": [
      "id 24391\n",
      "opcode QUERY\n",
      "rcode NOERROR\n",
      "flags QR AA RD\n",
      "edns 0\n",
      "eflags DO\n",
      "payload 4096\n",
      ";QUESTION\n",
      ". IN DNSKEY\n",
      ";ANSWER\n",
      ". 172800 IN DNSKEY 256 3 8 AwEAAY+oUaY0b7Z45vRD1ef/GykZqgHJ tfdzRcnQNvGVQAqlH22QChtG+n1EMugw 7T/6uDBAGlRIkXASdtHXhxStb9lPpyQe 5/JIuMIlg+NhxKxEJ5e3J9SSPCavvDhH /BPrBCJwn8b68QAWRjVW6Rgdx63pUm7l fsimiWGMfplHNvcZWgVbKA9OI2o2lU8r T8n7zuwtlZPNpDLSI5GzrJgIiKR2Id16 fmAgTJBOw14Xye/t4/BxTdxeMiiVFwA4 KUV2VeqspHKSHFOz+lUIIqBRknEmYpSv nxnyi0n1n4tGnGP8z6ZwRACi1Rw0nCu7 BGOU9M6LpInRoW/W4KXLODr6xqU=\n",
      ". 172800 IN DNSKEY 257 3 8 AwEAAaz/tAm8yTn4Mfeh5eyI96WSVexT BAvkMgJzkKTOiW1vkIbzxeF3+/4RgWOq 7HrxRixHlFlExOLAJr5emLvN7SWXgnLh 4+B5xQlNVz8Og8kvArMtNROxVQuCaSnI DdD5LKyWbRd2n9WGe2R8PzgCmr3EgVLr jyBxWezF0jLHwVN8efS3rCj/EWgvIWgb 9tarpVUDK/b58Da+sqqls3eNbuv7pr+e oZG+SrDK6nWeL3c6H5Apxz7LjVc1uTId sIXxuOLYA4/ilBmSVIzuDWfdRUfhHdY6 +cn8HFRm+2hM8AnXGXws9555KrUB5qih ylGa8subX2Nn6UwNR1AkUTV74bU=\n",
      ". 172800 IN DNSKEY 256 3 8 AwEAAbDEyqdwu2fqAwinPCFwALUCWfYY aLrNhnOrMxDorLBYMipEE1btlK1XnigT RMeb0YQ8/LCopb3CN73hYDhCHFsNk+Gt ukBB+gWLcg+2FZXbhLXIheQm8x2VfOHy 2yYQG+18wjx3HY9Mj/ZEhXbZNrDMvpFK KVihWXa0/cHNg4ZcIHD9KkMlKzK+my1K /vz8fq5cFCFOu7wgM+kKbOikdcRBm7Uf /wRXZItFg2uhUijUb56gEN8uCUgmuEw6 wQ5ZBuR7UT/FLyyAUeAH87oxF4im2DXK 6J+JA7IAs2UHJ16uTqvdserUU8NIosis laXIZCvz+NTDb3SJcxs6bvCikeU=\n",
      ". 172800 IN RRSIG DNSKEY 8 0 172800 20211010000000 20210919000000 20326 . Sr5anUGJStj+Ve2zr83JMQrEmbkf88Ri 52nFderay/sSIad8vWAxiPoxdaJ1iWky hJSWeOR0Sw4lRsphPIj54s3yqpPfXUg8 rPoIVeYYYkTFO5W5BF3gLsMfu2ZHaHLp NOsy6GCgPwXCxq49lJ/xcLyS0tjGkSH8 IW3sAT15sXDhLkMjMISJQ776Z2LSonXc NvNeGrkXuzCmcOwdduWnaSFsmKoPWQbb 3a4kANk0I0GRtDIp8XApb6WnNAmKTPRa H/VoX9M6b8CZyp5TuAbNPnW8nVFaCRMp nWCWYYOUhLm7jYEyNSr+V+/ygD+OUyrx 4R/WzIGSHaiHGQB1KU4eyw==\n",
      ";AUTHORITY\n",
      ";ADDITIONAL\n"
     ]
    }
   ],
   "source": [
    "b_query = dns.message.make_query('.', 'DNSKEY', want_dnssec=True)\n",
    "response2 = dns.query.udp(b_query, '198.41.0.4')\n",
    "print(response2)"
   ]
  },
  {
   "cell_type": "code",
   "execution_count": 84,
   "id": "13ba921e",
   "metadata": {},
   "outputs": [],
   "source": [
    "def validateDnsSec(response1, response2, qtext):\n",
    "#     noDs = True\n",
    "#     for i in response1.additional:\n",
    "#         if i.rdtype == 43:\n",
    "#             noDs = False\n",
    "#     if noDs:\n",
    "#         print(\"DNSSEC NOT SUPPORTED\")\n",
    "#         sys.exit(0)\n",
    "    ds = None\n",
    "    rrsig = None\n",
    "    if response1.answer:\n",
    "        print(\"***\"*10)\n",
    "        print(\"***\"*10)\n",
    "        print(\"***\"*10)\n",
    "        print(\"***\"*10)\n",
    "        print(\"ANSWER HERE\")\n",
    "        print(\"***\"*10)\n",
    "        print(\"***\"*10)\n",
    "        print(\"***\"*10)\n",
    "#         print(response1.answer[1][0])\n",
    "        return True\n",
    "#     for i in response1.authority:\n",
    "# #         print(i.rdtype)\n",
    "#         if not ds and i.rdtype == 43:\n",
    "#             ds = i\n",
    "#         elif not rrsig and i.rdtype == 46:\n",
    "#             rrsig = i\n",
    "#         if ds and rrsig:\n",
    "#             break\n",
    "#     if not ds or not rrsig:\n",
    "#         print(\"DS:\",ds)\n",
    "#         print(\"rrsig:\",rrsig)\n",
    "#         print(response1)\n",
    "#         raise Exception\n",
    "#     print(response2)\n",
    "    response2Dnskey = response2.answer[0]\n",
    "#     response2Rrsig = response2.answer[1]\n",
    "    for res in response2Dnskey:\n",
    "#     print(res.rdtype)\n",
    "        if \"257\" in str(res):\n",
    "            zsk = res\n",
    "            break\n",
    "    zskDecrypt = dns.dnssec.make_ds(qtext, zsk, \"SHA256\", origin=None)\n",
    "    zskDecrypt = str(zskDecrypt)\n",
    "#     print(\"ZSK:\", zskDecrypt)\n",
    "#     print(zskDecrypt.split(\" \")[3])\n",
    "    zskDecrypt = (zskDecrypt.split(\" \")[3])\n",
    "    if not str(zskDecrypt) in root_hash:\n",
    "        print(\"ZSK not in hash!!\".upper())\n",
    "        raise Exception\n",
    "        \n",
    "    key=dns.name.from_text(qtext)\n",
    "    try:\n",
    "        if not dns.dnssec.validate(response2.answer[0], response2.answer[1], {key:response2.answer[0]}):\n",
    "            pass\n",
    "        else:\n",
    "            return False\n",
    "    except Exception as e:\n",
    "        print(\"Validation Failed!\")\n",
    "        if not dns.dnssec.validate(response1.authority[1], response1.authority[2], {key:response2.answer[0]}):\n",
    "            pass\n",
    "        else:\n",
    "            return False\n",
    "    except Exception as e:\n",
    "        return False\n",
    "#     print(\"DNSSEC VALIDATED at \\\"{}\\\"\".format(qtext))\n",
    "    return True"
   ]
  },
  {
   "cell_type": "code",
   "execution_count": 75,
   "id": "89480686",
   "metadata": {},
   "outputs": [
    {
     "data": {
      "text/plain": [
       "True"
      ]
     },
     "execution_count": 75,
     "metadata": {},
     "output_type": "execute_result"
    }
   ],
   "source": [
    "a_query = dns.message.make_query('paypal.com', 'A', want_dnssec=True)\n",
    "response1 = dns.query.udp(a_query, '198.41.0.4')\n",
    "b_query = dns.message.make_query('.', 'DNSKEY', want_dnssec=True)\n",
    "response2 = dns.query.udp(b_query, '198.41.0.4')\n",
    "validateDnsSec(response1, response2, \".\")"
   ]
  },
  {
   "cell_type": "code",
   "execution_count": 76,
   "id": "a6832cd3",
   "metadata": {},
   "outputs": [],
   "source": [
    "import sys"
   ]
  },
  {
   "cell_type": "code",
   "execution_count": 77,
   "id": "c60ea580",
   "metadata": {},
   "outputs": [],
   "source": [
    "def fetchResponseWithValidation(url, dnsDomain, rtype, root):\n",
    "#     print(\"Root check: \", root)\n",
    "    response = fetchResponse(url, rtype, root)\n",
    "    responseDns = fetchResponse(dnsDomain, \"DNSKEY\", root)\n",
    "#     print(\"dnsDomain: \")\n",
    "    responseForValidation = validateDnsSec(response, responseDns, dnsDomain)\n",
    "#     print(\"Validation: \", responseForValidation)\n",
    "    if not responseForValidation:\n",
    "        print(\"DNSSEC FAILED\")\n",
    "        return response, False\n",
    "                \n",
    "    else:\n",
    "        print(\"DNS OKAY\")\n",
    "        return response, True"
   ]
  },
  {
   "cell_type": "code",
   "execution_count": 89,
   "id": "fb86def9",
   "metadata": {},
   "outputs": [
    {
     "name": "stdout",
     "output_type": "stream",
     "text": [
      "mydig paypal.com A\n",
      "DNS OKAY\n",
      "DNS OKAY\n",
      "******************************\n",
      "******************************\n",
      "******************************\n",
      "******************************\n",
      "ANSWER HERE\n",
      "******************************\n",
      "******************************\n",
      "******************************\n",
      "DNS OKAY\n",
      "Final response:\n",
      "\n",
      "QUESTION SECTION:\n",
      "paypal.com     IN      A\n",
      "ANSWER SECTION:\n",
      "paypal.com. 300 IN A 64.4.250.37\n",
      "paypal.com. 300 IN A 64.4.250.36\n",
      "\n",
      "Query time: 165 msec\n",
      "When: Wed Sep 22 19:40:02 2021\n"
     ]
    }
   ],
   "source": [
    "#!/usr/bin/env python3\n",
    "# -*- coding: utf-8 -*-\n",
    "\"\"\"\n",
    "Created on Sun Sep 19 16:02:28 2021\n",
    "\n",
    "@author: vishnutammishetti\n",
    "\"\"\"\n",
    "\n",
    "import dns.resolver\n",
    "import time\n",
    "\n",
    "#Funcs\n",
    "def fetchResponse(queryText, rtype, targetIp):\n",
    "#     print(\"In fetch for \", queryText, \"type \", rtype)\n",
    "    query = dns.message.make_query(queryText, rtype, want_dnssec=True)  \n",
    "    response = dns.query.udp(query, targetIp, timeout = 2)\n",
    "    return response\n",
    "\n",
    "def ipsIn(result):\n",
    "    for i in result:\n",
    "        if i.rdtype == 1:\n",
    "            return True\n",
    "    return False\n",
    "def nssIn(result):\n",
    "    for i in result:\n",
    "        if i.rdtype == 2:\n",
    "            return True\n",
    "    return False\n",
    "def mxsIn(result):\n",
    "    for i in result:\n",
    "        if i.rdtype == 15:\n",
    "            return True\n",
    "    return False\n",
    "\n",
    "def printResult(url, rType, resultSet, timeTaken):\n",
    "    print(\"QUESTION SECTION:\")\n",
    "    print(\"{}     IN      {}\".format(url, rType))\n",
    "    \n",
    "    print(\"ANSWER SECTION:\")\n",
    "    print(resultSet[0])\n",
    "    print(\"\")\n",
    "    print(\"Query time: {} msec\".format(int(timeTaken)))\n",
    "    print(\"When: {}\".format(time.ctime()))\n",
    "\n",
    "def mainFunction(url, rType, dnsDomain = \".\", dnsCounter = 0):\n",
    "    global root_hash\n",
    "#     print(\"URL: \", url)\n",
    "    for root in root_servers.values():\n",
    "        if True:\n",
    "            response, responseDns = fetchResponseWithValidation(url, dnsDomain, rType, root)\n",
    "#             for i in response.authority:\n",
    "#                 print(\"Auth:\", i)\n",
    "            if not response.answer:\n",
    "                root_hash.append(response.authority[1].to_text().split(\" \")[7])\n",
    "#             response = fetchResponse(url, rType, root)\n",
    "#             response, responseDns = fetchResponseWithValidation(url, dnsDomain, rType, root)\n",
    "#             responseDns = fetchResponse(dnsDomain, \"DNSKEY\", root)\n",
    "#             responseForValidation = validateDnsSec(response, responseDns, dnsDomain)\n",
    "#             print(\"Validation: \", responseForValidation)\n",
    "#             if not responseForValidation:\n",
    "#                 print(\"DNSSEC FAILED\")\n",
    "                \n",
    "#             else:\n",
    "#                 print(\"DNS OKAY\")\n",
    "#                 root_hash.append(response1.authority[1].to_text().split(\" \")[7])\n",
    "#                 print(\"ROOT HASH:\", root_hash)\n",
    "            if responseDns:\n",
    "                dnsCounter += 1\n",
    "                urlList = url.split(\".\")\n",
    "                dnsDomain = \".\".join(urlList[-dnsCounter:]) + \".\"\n",
    "            else:\n",
    "                print(\"DNS Failed\")\n",
    "                return response, False\n",
    "#                 sys.exit(0)\n",
    "#                     print(\"DNS DOMAIN: \",dnsDomain)\n",
    "#             print(\"Hello\")\n",
    "#             print(response)\n",
    "            while not response.answer:\n",
    "#                 print(response)\n",
    "#                 print(\"IN NOT ANSWER\")\n",
    "                if response.additional:\n",
    "                    for val in response.additional:\n",
    "    #                     print(val)\n",
    "                        if val.rdtype == 1:\n",
    "                            nextIp = str(val[0])\n",
    "                            response, responseDns = fetchResponseWithValidation(url, dnsDomain, rType, nextIp)\n",
    "                            \n",
    "                            if not response.answer:\n",
    "                                root_hash.append(response.authority[1].to_text().split(\" \")[7])\n",
    "                            \n",
    "                            if not responseDns:\n",
    "                                print(\"DNS Failed\")\n",
    "                                return response, False\n",
    "                            if responseDns:\n",
    "                                dnsCounter += 1\n",
    "                                urlList = url.split(\".\")\n",
    "                                dnsDomain = \".\".join(urlList[-dnsCounter:]) + \".\"\n",
    "#                             response = fetchResponse(url, rType, nextIp)\n",
    "                            \n",
    "                            break\n",
    "\n",
    "                else:\n",
    "                    if response.authority:\n",
    "                        for val in response.authority:\n",
    "                            if val.rdtype == 2:\n",
    "                                nameServer = str(val[0])\n",
    "                                break\n",
    "                        nameServerResponse = mainFunction(nameServer, \"A\", dnsDomain, dnsCounter)\n",
    "#                         print(nameServerResponse)\n",
    "    #                     return\n",
    "                        for i in nameServerResponse.answer:\n",
    "                            foundNs = False\n",
    "                            if i.rdtype == 1:\n",
    "                                nextIp = i\n",
    "#                                 print(nextIp)\n",
    "                                response.additional = [nextIp]\n",
    "                                foundNs = True\n",
    "                                break\n",
    "                        if not foundNs:\n",
    "                            return response, True # Not sure!\n",
    "                        # If there is no name server as well, the authority section might contain the NS. Check dig www.google.com NS\n",
    "            if nssIn(response.answer) and rType == \"NS\":\n",
    "                return response, True\n",
    "            if mxsIn(response.answer) and rType == \"MX\":\n",
    "                return response, True\n",
    "            if ipsIn(response.answer):\n",
    "                return response, True\n",
    "            else:\n",
    "                print(\"NO IPS\")\n",
    "                cname = None\n",
    "                for i in response.answer:\n",
    "                    if i.rdtype == 5:\n",
    "                        print(\"Has CNAMES\")\n",
    "                        cname = str(i)\n",
    "                        \n",
    "                        break\n",
    "                if cname:\n",
    "#                     print(\"In loop\")\n",
    "                    response1 = mainFunction(str(i), rType)\n",
    "#                     print(\"Called Main function again!\")\n",
    "#                     print(response1)\n",
    "                    return ((response1), True)\n",
    "                else:\n",
    "                    return (response, True)\n",
    "#                     break\n",
    "#                 return response\n",
    "#         except Exception as e:\n",
    "# #             raise e\n",
    "#             print(e)\n",
    "#             continue\n",
    "        \n",
    "def finalFunc(url, rtype):\n",
    "    startTime = time.time()\n",
    "    finalUrl = url[::]\n",
    "    if url[:4] == \"www.\":\n",
    "        finalUrl = finalUrl[4::]\n",
    "    response, dns = mainFunction(finalUrl, rtype)\n",
    "    timeTaken = (time.time() - startTime)*10**3\n",
    "    if dns:\n",
    "        \n",
    "        print(\"Final response:\\n\")\n",
    "#     print(response.answer)\n",
    "        \n",
    "        printResult(url, rtype, response.answer, timeTaken)\n",
    "    else:\n",
    "        print(\"DNSSEC VALIDATION FAILED\")\n",
    "    \n",
    "    return timeTaken\n",
    "    \n",
    "\n",
    "#Funcs\n",
    "\n",
    "root_servers = {}\n",
    "\n",
    "root_servers['a'] = '198.41.0.4'\n",
    "root_servers['b'] = '199.9.14.201'\n",
    "root_servers['c'] = '192.33.4.12'\n",
    "root_servers['d'] = '199.7.91.13'\n",
    "root_servers['e'] = '192.203.230.10'\n",
    "root_servers['f'] = '192.5.5.241'\n",
    "root_servers['g'] = '192.112.36.4'\n",
    "root_servers['h'] = '198.97.190.53'\n",
    "root_servers['i'] = '192.36.148.17'\n",
    "root_servers['j'] = '192.58.128.30'\n",
    "root_servers['k'] = '193.0.14.129'\n",
    "root_servers['l'] = '199.7.83.42'\n",
    "root_servers['n'] = '202.12.27.33'\n",
    "\n",
    "\n",
    "inputString = input()\n",
    "inputList = inputString.split()\n",
    "if inputList[0] != \"mydig\":\n",
    "    print(\"ERROR, Please enter mydig website rtype\")\n",
    "else:\n",
    "    \n",
    "    finalFunc(inputList[1], inputList[2])\n",
    "# mydig cs.stonybrook.edu A\n",
    "# mydig google.co.jp A\n",
    "# mydig www.dnssec-fail.org A"
   ]
  },
  {
   "cell_type": "code",
   "execution_count": 270,
   "id": "f8790dc5",
   "metadata": {},
   "outputs": [],
   "source": [
    "url = \"cs.google.com\"\n",
    "dnsDomain = \".\"\n",
    "dnsCounter = 0"
   ]
  },
  {
   "cell_type": "code",
   "execution_count": 167,
   "id": "5c6acfc5",
   "metadata": {},
   "outputs": [],
   "source": [
    "dnsCounter += 1\n",
    "urlList = url.split(\".\")\n",
    "dnsDomain = \".\".join(urlList[-dnsCounter:]) + \".\""
   ]
  },
  {
   "cell_type": "code",
   "execution_count": 168,
   "id": "88cff845",
   "metadata": {},
   "outputs": [
    {
     "data": {
      "text/plain": [
       "'cs.google.com.'"
      ]
     },
     "execution_count": 168,
     "metadata": {},
     "output_type": "execute_result"
    }
   ],
   "source": [
    "dnsDomain"
   ]
  },
  {
   "cell_type": "code",
   "execution_count": 170,
   "id": "6028473d",
   "metadata": {},
   "outputs": [
    {
     "name": "stdout",
     "output_type": "stream",
     "text": [
      "['49aac11d7b6f6446702e54a1607371607a1a41855200fd2ce1cdde32f24e8fb5', 'e06d44b80b8f1d39a95c0b0d7c65d08458e880409bbc683457104237c7f8ec8d']\n"
     ]
    }
   ],
   "source": [
    "print(root_hash)"
   ]
  },
  {
   "cell_type": "code",
   "execution_count": 243,
   "id": "c51ba60d",
   "metadata": {},
   "outputs": [
    {
     "name": "stdout",
     "output_type": "stream",
     "text": [
      "id 20932\n",
      "opcode QUERY\n",
      "rcode NOERROR\n",
      "flags QR RD\n",
      "edns 0\n",
      "eflags DO\n",
      "payload 1472\n",
      ";QUESTION\n",
      "paypal.com. IN A\n",
      ";ANSWER\n",
      ";AUTHORITY\n",
      "com. 172800 IN NS a.gtld-servers.net.\n",
      "com. 172800 IN NS b.gtld-servers.net.\n",
      "com. 172800 IN NS c.gtld-servers.net.\n",
      "com. 172800 IN NS d.gtld-servers.net.\n",
      "com. 172800 IN NS e.gtld-servers.net.\n",
      "com. 172800 IN NS f.gtld-servers.net.\n",
      "com. 172800 IN NS g.gtld-servers.net.\n",
      "com. 172800 IN NS h.gtld-servers.net.\n",
      "com. 172800 IN NS i.gtld-servers.net.\n",
      "com. 172800 IN NS j.gtld-servers.net.\n",
      "com. 172800 IN NS k.gtld-servers.net.\n",
      "com. 172800 IN NS l.gtld-servers.net.\n",
      "com. 172800 IN NS m.gtld-servers.net.\n",
      "com. 86400 IN DS 30909 8 2 e2d3c916f6deeac73294e8268fb5885044a833fc5459588f4a9184cfc41a5766\n",
      "com. 86400 IN RRSIG DS 8 1 86400 20211005210000 20210922200000 26838 . bF/r3zrgxQLjC3hituZPxmzTURcKJ3nc 8BjFu0eMJwxovRYJBQwLetYcWL0c5HEl GkzGA/wWZJ1XjxRaCpIaw040WbVwX7+T CKR3nrNS8XbKWb/u5NRZERafRKxw+BbU g56/te9VCiFICuCHUXs1kNBbiqsif8kf YYIgMKMBBEchQ9GPAk1CrBVp7b7Rigs+ byao4IYT21Tqgale9RCUep4peTvPR8Hq oWj0ThuOcRsvjnpsURuKYcNG4kR4OIEN HXpYO7yQaQdvsqz0cqbUBSdtgmyUBYWI F3qxA8PTMDTjdRrAnuvs05SIQzXHu827 0HBHJH1GdHh1l1iYVZ4rhQ==\n",
      ";ADDITIONAL\n",
      "a.gtld-servers.net. 172800 IN A 192.5.6.30\n",
      "b.gtld-servers.net. 172800 IN A 192.33.14.30\n",
      "c.gtld-servers.net. 172800 IN A 192.26.92.30\n",
      "d.gtld-servers.net. 172800 IN A 192.31.80.30\n",
      "e.gtld-servers.net. 172800 IN A 192.12.94.30\n",
      "f.gtld-servers.net. 172800 IN A 192.35.51.30\n",
      "g.gtld-servers.net. 172800 IN A 192.42.93.30\n",
      "h.gtld-servers.net. 172800 IN A 192.54.112.30\n",
      "i.gtld-servers.net. 172800 IN A 192.43.172.30\n",
      "j.gtld-servers.net. 172800 IN A 192.48.79.30\n",
      "k.gtld-servers.net. 172800 IN A 192.52.178.30\n",
      "l.gtld-servers.net. 172800 IN A 192.41.162.30\n",
      "m.gtld-servers.net. 172800 IN A 192.55.83.30\n",
      "a.gtld-servers.net. 172800 IN AAAA 2001:503:a83e::2:30\n",
      "b.gtld-servers.net. 172800 IN AAAA 2001:503:231d::2:30\n",
      "c.gtld-servers.net. 172800 IN AAAA 2001:503:83eb::30\n",
      "d.gtld-servers.net. 172800 IN AAAA 2001:500:856e::30\n",
      "e.gtld-servers.net. 172800 IN AAAA 2001:502:1ca1::30\n",
      "f.gtld-servers.net. 172800 IN AAAA 2001:503:d414::30\n",
      "g.gtld-servers.net. 172800 IN AAAA 2001:503:eea3::30\n",
      "h.gtld-servers.net. 172800 IN AAAA 2001:502:8cc::30\n",
      "i.gtld-servers.net. 172800 IN AAAA 2001:503:39c1::30\n",
      "j.gtld-servers.net. 172800 IN AAAA 2001:502:7094::30\n",
      "k.gtld-servers.net. 172800 IN AAAA 2001:503:d2d::30\n",
      "l.gtld-servers.net. 172800 IN AAAA 2001:500:d937::30\n",
      "m.gtld-servers.net. 172800 IN AAAA 2001:501:b1f9::30\n"
     ]
    }
   ],
   "source": [
    "print(response1)"
   ]
  },
  {
   "cell_type": "code",
   "execution_count": null,
   "id": "24f84fd9",
   "metadata": {},
   "outputs": [],
   "source": []
  }
 ],
 "metadata": {
  "kernelspec": {
   "display_name": "Python 3",
   "language": "python",
   "name": "python3"
  },
  "language_info": {
   "codemirror_mode": {
    "name": "ipython",
    "version": 3
   },
   "file_extension": ".py",
   "mimetype": "text/x-python",
   "name": "python",
   "nbconvert_exporter": "python",
   "pygments_lexer": "ipython3",
   "version": "3.8.8"
  }
 },
 "nbformat": 4,
 "nbformat_minor": 5
}
